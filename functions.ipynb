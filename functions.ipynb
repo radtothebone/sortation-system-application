{
 "cells": [
  {
   "cell_type": "code",
   "execution_count": 84,
   "metadata": {},
   "outputs": [],
   "source": [
    "# Load bad accounts onto sort first to avoid a late-running sort! \n",
    "import pandas as pd"
   ]
  },
  {
   "cell_type": "code",
   "execution_count": 81,
   "metadata": {},
   "outputs": [],
   "source": [
    "observation_list = []\n",
    "\n",
    "with open('sort_files/reptPRsorterStatus_07032020_5020939.txt') as f:\n",
    "    \n",
    "    obs_dict = dict()\n",
    "    timestamp = ''\n",
    "    \n",
    "    for i, line in enumerate(f):\n",
    "        \n",
    "        # Line 0 and 1 correspond to the date and time. \n",
    "        if i < 2:\n",
    "            timestamp = timestamp + ' ' + line.split()[0]\n",
    "            obs_dict['timestamp'] = timestamp\n",
    "        \n",
    "        # Line 3 corresponds to the sort ID. \n",
    "        elif i == 3:\n",
    "            sort_id = int(line.split()[-1])\n",
    "            obs_dict['sort_id'] = sort_id\n",
    "        \n",
    "        # Line 95 to 133 are reject counts. \n",
    "        elif i > 94 and i < 134:\n",
    "            # Splitting rejects, exluding reject names. \n",
    "            metric_counts = line[22:].split()\n",
    "            metric_name = line[:22].strip().replace(' ', '_').lower()            \n",
    "            \n",
    "            ss1_metric = int(metric_counts[0])\n",
    "            ss2_metric = int(metric_counts[1])\n",
    "            total = ss1_metric + ss2_metric\n",
    "            \n",
    "            obs_dict[f'ss1_{metric_name}'] = ss1_metric\n",
    "            obs_dict[f'ss2_{metric_name}'] = ss2_metric\n",
    "            obs_dict[f'{metric_name}_total'] = total\n",
    "    observation_list.append(obs_dict)"
   ]
  },
  {
   "cell_type": "code",
   "execution_count": 86,
   "metadata": {},
   "outputs": [],
   "source": [
    "df = pd.DataFrame(observation_list)"
   ]
  },
  {
   "cell_type": "code",
   "execution_count": 87,
   "metadata": {},
   "outputs": [
    {
     "data": {
      "text/html": [
       "<div>\n",
       "<style scoped>\n",
       "    .dataframe tbody tr th:only-of-type {\n",
       "        vertical-align: middle;\n",
       "    }\n",
       "\n",
       "    .dataframe tbody tr th {\n",
       "        vertical-align: top;\n",
       "    }\n",
       "\n",
       "    .dataframe thead th {\n",
       "        text-align: right;\n",
       "    }\n",
       "</style>\n",
       "<table border=\"1\" class=\"dataframe\">\n",
       "  <thead>\n",
       "    <tr style=\"text-align: right;\">\n",
       "      <th></th>\n",
       "      <th>timestamp</th>\n",
       "      <th>sort_id</th>\n",
       "      <th>ss1_gross_inducts</th>\n",
       "      <th>ss2_gross_inducts</th>\n",
       "      <th>gross_inducts_total</th>\n",
       "      <th>ss1_net_inducts</th>\n",
       "      <th>ss2_net_inducts</th>\n",
       "      <th>net_inducts_total</th>\n",
       "      <th>ss1_recirculated</th>\n",
       "      <th>ss2_recirculated</th>\n",
       "      <th>...</th>\n",
       "      <th>disable_sortation_total</th>\n",
       "      <th>ss1_closed_bag</th>\n",
       "      <th>ss2_closed_bag</th>\n",
       "      <th>closed_bag_total</th>\n",
       "      <th>ss1_divert_out_position</th>\n",
       "      <th>ss2_divert_out_position</th>\n",
       "      <th>divert_out_position_total</th>\n",
       "      <th>ss1_sorter_aux_mode</th>\n",
       "      <th>ss2_sorter_aux_mode</th>\n",
       "      <th>sorter_aux_mode_total</th>\n",
       "    </tr>\n",
       "  </thead>\n",
       "  <tbody>\n",
       "    <tr>\n",
       "      <th>0</th>\n",
       "      <td>07/03/2020 08:51:24</td>\n",
       "      <td>5020939</td>\n",
       "      <td>18212</td>\n",
       "      <td>27192</td>\n",
       "      <td>45404</td>\n",
       "      <td>14958</td>\n",
       "      <td>24330</td>\n",
       "      <td>39288</td>\n",
       "      <td>2668</td>\n",
       "      <td>2642</td>\n",
       "      <td>...</td>\n",
       "      <td>0</td>\n",
       "      <td>0</td>\n",
       "      <td>0</td>\n",
       "      <td>0</td>\n",
       "      <td>0</td>\n",
       "      <td>0</td>\n",
       "      <td>0</td>\n",
       "      <td>0</td>\n",
       "      <td>0</td>\n",
       "      <td>0</td>\n",
       "    </tr>\n",
       "  </tbody>\n",
       "</table>\n",
       "<p>1 rows × 119 columns</p>\n",
       "</div>"
      ],
      "text/plain": [
       "              timestamp  sort_id  ss1_gross_inducts  ss2_gross_inducts  \\\n",
       "0   07/03/2020 08:51:24  5020939              18212              27192   \n",
       "\n",
       "   gross_inducts_total  ss1_net_inducts  ss2_net_inducts  net_inducts_total  \\\n",
       "0                45404            14958            24330              39288   \n",
       "\n",
       "   ss1_recirculated  ss2_recirculated  ...  disable_sortation_total  \\\n",
       "0              2668              2642  ...                        0   \n",
       "\n",
       "   ss1_closed_bag  ss2_closed_bag  closed_bag_total  ss1_divert_out_position  \\\n",
       "0               0               0                 0                        0   \n",
       "\n",
       "   ss2_divert_out_position  divert_out_position_total  ss1_sorter_aux_mode  \\\n",
       "0                        0                          0                    0   \n",
       "\n",
       "   ss2_sorter_aux_mode  sorter_aux_mode_total  \n",
       "0                    0                      0  \n",
       "\n",
       "[1 rows x 119 columns]"
      ]
     },
     "execution_count": 87,
     "metadata": {},
     "output_type": "execute_result"
    }
   ],
   "source": [
    "df"
   ]
  }
 ],
 "metadata": {
  "environment": {
   "name": "common-cpu.m56",
   "type": "gcloud",
   "uri": "gcr.io/deeplearning-platform-release/base-cpu:m56"
  },
  "kernelspec": {
   "display_name": "Python 3",
   "language": "python",
   "name": "python3"
  },
  "language_info": {
   "codemirror_mode": {
    "name": "ipython",
    "version": 3
   },
   "file_extension": ".py",
   "mimetype": "text/x-python",
   "name": "python",
   "nbconvert_exporter": "python",
   "pygments_lexer": "ipython3",
   "version": "3.7.8"
  }
 },
 "nbformat": 4,
 "nbformat_minor": 4
}
